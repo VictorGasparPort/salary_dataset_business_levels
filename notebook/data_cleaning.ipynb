{
 "cells": [
  {
   "cell_type": "markdown",
   "metadata": {},
   "source": [
    "### Carregamento"
   ]
  },
  {
   "cell_type": "code",
   "execution_count": 1,
   "metadata": {},
   "outputs": [
    {
     "data": {
      "text/html": [
       "<div>\n",
       "<style scoped>\n",
       "    .dataframe tbody tr th:only-of-type {\n",
       "        vertical-align: middle;\n",
       "    }\n",
       "\n",
       "    .dataframe tbody tr th {\n",
       "        vertical-align: top;\n",
       "    }\n",
       "\n",
       "    .dataframe thead th {\n",
       "        text-align: right;\n",
       "    }\n",
       "</style>\n",
       "<table border=\"1\" class=\"dataframe\">\n",
       "  <thead>\n",
       "    <tr style=\"text-align: right;\">\n",
       "      <th></th>\n",
       "      <th>Position</th>\n",
       "      <th>Level</th>\n",
       "      <th>Salary</th>\n",
       "    </tr>\n",
       "  </thead>\n",
       "  <tbody>\n",
       "    <tr>\n",
       "      <th>0</th>\n",
       "      <td>Business Analyst</td>\n",
       "      <td>1</td>\n",
       "      <td>45000</td>\n",
       "    </tr>\n",
       "    <tr>\n",
       "      <th>1</th>\n",
       "      <td>Junior Consultant</td>\n",
       "      <td>2</td>\n",
       "      <td>50000</td>\n",
       "    </tr>\n",
       "    <tr>\n",
       "      <th>2</th>\n",
       "      <td>Senior Consultant</td>\n",
       "      <td>3</td>\n",
       "      <td>60000</td>\n",
       "    </tr>\n",
       "    <tr>\n",
       "      <th>3</th>\n",
       "      <td>Manager</td>\n",
       "      <td>4</td>\n",
       "      <td>80000</td>\n",
       "    </tr>\n",
       "    <tr>\n",
       "      <th>4</th>\n",
       "      <td>Country Manger</td>\n",
       "      <td>5</td>\n",
       "      <td>110000</td>\n",
       "    </tr>\n",
       "    <tr>\n",
       "      <th>5</th>\n",
       "      <td>Region Manager</td>\n",
       "      <td>6</td>\n",
       "      <td>150000</td>\n",
       "    </tr>\n",
       "    <tr>\n",
       "      <th>6</th>\n",
       "      <td>Partner</td>\n",
       "      <td>7</td>\n",
       "      <td>200000</td>\n",
       "    </tr>\n",
       "    <tr>\n",
       "      <th>7</th>\n",
       "      <td>Senior Partner</td>\n",
       "      <td>8</td>\n",
       "      <td>220000</td>\n",
       "    </tr>\n",
       "    <tr>\n",
       "      <th>8</th>\n",
       "      <td>C.level</td>\n",
       "      <td>9</td>\n",
       "      <td>250000</td>\n",
       "    </tr>\n",
       "    <tr>\n",
       "      <th>9</th>\n",
       "      <td>CEO</td>\n",
       "      <td>10</td>\n",
       "      <td>1000000</td>\n",
       "    </tr>\n",
       "  </tbody>\n",
       "</table>\n",
       "</div>"
      ],
      "text/plain": [
       "            Position  Level    Salary\n",
       "0   Business Analyst       1    45000\n",
       "1  Junior Consultant       2    50000\n",
       "2  Senior Consultant       3    60000\n",
       "3            Manager       4    80000\n",
       "4     Country Manger       5   110000\n",
       "5     Region Manager       6   150000\n",
       "6            Partner       7   200000\n",
       "7     Senior Partner       8   220000\n",
       "8            C.level       9   250000\n",
       "9                CEO      10  1000000"
      ]
     },
     "execution_count": 1,
     "metadata": {},
     "output_type": "execute_result"
    }
   ],
   "source": [
    "import pandas as pd\n",
    "# Função para carregar os dados\n",
    "def carregar_dados(caminho_arquivo, coluna_data=None):\n",
    "    \"\"\"\n",
    "    Carrega um arquivo CSV com dados.\n",
    "    \n",
    "    Parâmetros:\n",
    "    - caminho_arquivo (str): Caminho do arquivo CSV.\n",
    "    - coluna_data (str, opcional): Nome da coluna de datas para converter para datetime.\n",
    "    \n",
    "    Retorna:\n",
    "    - pandas.DataFrame: DataFrame com os dados carregados.\n",
    "    \"\"\"\n",
    "    # Carrega o CSV com separador ';'\n",
    "    dados = pd.read_csv(caminho_arquivo, sep=',')\n",
    "    \n",
    "    # Converte a coluna de datas para datetime com timezone, se especificada\n",
    "    if coluna_data:\n",
    "        dados[coluna_data] = pd.to_datetime(dados[coluna_data], utc=True)\n",
    "    \n",
    "    return dados\n",
    "# Caminho\n",
    "caminho_arquivo = '../data/raw/salary.csv'\n",
    "# Carrega os dados com o separador correto\n",
    "dados = carregar_dados(caminho_arquivo)\n",
    "\n",
    "# Exibir as primeiras linhas do DataFrame\n",
    "dados.head(10)\n"
   ]
  },
  {
   "cell_type": "markdown",
   "metadata": {},
   "source": [
    "### Tamanho base"
   ]
  },
  {
   "cell_type": "code",
   "execution_count": 2,
   "metadata": {},
   "outputs": [
    {
     "data": {
      "text/plain": [
       "{'Número de Linhas': 10, 'Número de Colunas': 3}"
      ]
     },
     "execution_count": 2,
     "metadata": {},
     "output_type": "execute_result"
    }
   ],
   "source": [
    "def verificar_tamanho_base(df):\n",
    "    \"\"\"\n",
    "    Verifica o tamanho da base de dados em termos de número de linhas e colunas.\n",
    "    \n",
    "    Parâmetros:\n",
    "    - df (pandas.DataFrame): DataFrame a ser verificado.\n",
    "    \n",
    "    Retorna:\n",
    "    - dict: Dicionário com o número de linhas e colunas.\n",
    "    \"\"\"\n",
    "    tamanho = {\n",
    "        'Número de Linhas': df.shape[0],\n",
    "        'Número de Colunas': df.shape[1]\n",
    "    }\n",
    "    \n",
    "    return tamanho\n",
    "\n",
    "# Verificar o tamanho da base de dados\n",
    "tamanho_base = verificar_tamanho_base(dados)\n",
    "tamanho_base"
   ]
  },
  {
   "cell_type": "markdown",
   "metadata": {},
   "source": [
    "### Verificar nulos"
   ]
  },
  {
   "cell_type": "code",
   "execution_count": 3,
   "metadata": {},
   "outputs": [
    {
     "data": {
      "text/html": [
       "<div>\n",
       "<style scoped>\n",
       "    .dataframe tbody tr th:only-of-type {\n",
       "        vertical-align: middle;\n",
       "    }\n",
       "\n",
       "    .dataframe tbody tr th {\n",
       "        vertical-align: top;\n",
       "    }\n",
       "\n",
       "    .dataframe thead th {\n",
       "        text-align: right;\n",
       "    }\n",
       "</style>\n",
       "<table border=\"1\" class=\"dataframe\">\n",
       "  <thead>\n",
       "    <tr style=\"text-align: right;\">\n",
       "      <th></th>\n",
       "      <th>Quantidade de Valores Ausentes</th>\n",
       "      <th>Percentual de Valores Ausentes (%)</th>\n",
       "    </tr>\n",
       "  </thead>\n",
       "  <tbody>\n",
       "  </tbody>\n",
       "</table>\n",
       "</div>"
      ],
      "text/plain": [
       "Empty DataFrame\n",
       "Columns: [Quantidade de Valores Ausentes, Percentual de Valores Ausentes (%)]\n",
       "Index: []"
      ]
     },
     "execution_count": 3,
     "metadata": {},
     "output_type": "execute_result"
    }
   ],
   "source": [
    "# Função para verificar valores ausentes\n",
    "def verificar_valores_ausentes(df):\n",
    "    \"\"\"\n",
    "    Verifica a quantidade e o percentual de valores ausentes em cada coluna de um DataFrame.\n",
    "    \n",
    "    Parâmetros:\n",
    "    - df (pandas.DataFrame): DataFrame a ser verificado.\n",
    "    \n",
    "    Retorna:\n",
    "    - pandas.DataFrame: DataFrame com a quantidade e o percentual de valores ausentes por coluna.\n",
    "    \"\"\"\n",
    "    # Calcular a quantidade de valores ausentes\n",
    "    valores_ausentes = df.isnull().sum()\n",
    "    \n",
    "    # Calcular o percentual de valores ausentes\n",
    "    percentual_ausentes = (valores_ausentes / df.shape[0]) * 100\n",
    "    \n",
    "    # Criar um DataFrame com os resultados\n",
    "    tabela_ausentes = pd.DataFrame({\n",
    "        'Quantidade de Valores Ausentes': valores_ausentes,\n",
    "        'Percentual de Valores Ausentes (%)': percentual_ausentes\n",
    "    })\n",
    "    \n",
    "    # Ordenar o DataFrame pelo percentual de valores ausentes em ordem decrescente\n",
    "    tabela_ausentes = tabela_ausentes[tabela_ausentes['Quantidade de Valores Ausentes'] > 0]\n",
    "    tabela_ausentes = tabela_ausentes.sort_values(by='Percentual de Valores Ausentes (%)', ascending=False)\n",
    "    \n",
    "    return tabela_ausentes\n",
    "\n",
    "# Verificar valores ausentes\n",
    "tabela_ausentes = verificar_valores_ausentes(dados)\n",
    "tabela_ausentes"
   ]
  },
  {
   "cell_type": "markdown",
   "metadata": {},
   "source": [
    "### Valores duplicados"
   ]
  },
  {
   "cell_type": "code",
   "execution_count": 15,
   "metadata": {},
   "outputs": [
    {
     "name": "stdout",
     "output_type": "stream",
     "text": [
      "=== Análise de Valores Duplicados ===\n",
      "\n",
      "\n",
      "Coluna: Position\n",
      "Status: Não possui valores duplicados\n",
      "\n",
      "Coluna: Level\n",
      "Status: Não possui valores duplicados\n",
      "\n",
      "Coluna: Salary\n",
      "Status: Não possui valores duplicados\n"
     ]
    }
   ],
   "source": [
    "def verificar_valores_duplicados(df, colunas=None):\n",
    "    \"\"\"\n",
    "    Verifica valores duplicados em um DataFrame, fornecendo análise detalhada.\n",
    "    \n",
    "    Parâmetros:\n",
    "    - df (pandas.DataFrame): DataFrame a ser analisado\n",
    "    - colunas (list, opcional): Lista específica de colunas para verificar duplicatas.\n",
    "                               Se None, verifica todas as colunas.\n",
    "    \n",
    "    Retorna:\n",
    "    - dict: Dicionário com informações sobre duplicatas para cada coluna analisada\n",
    "    \"\"\"\n",
    "    resultado = {}\n",
    "    \n",
    "    # Se nenhuma coluna específica for fornecida, usar todas as colunas\n",
    "    if colunas is None:\n",
    "        colunas = df.columns\n",
    "    \n",
    "    # Análise de duplicatas por coluna\n",
    "    for coluna in colunas:\n",
    "        # Encontrar valores duplicados\n",
    "        duplicados = df[df[coluna].duplicated(keep='first')]\n",
    "        qtd_duplicados = len(duplicados)\n",
    "        \n",
    "        if qtd_duplicados > 0:\n",
    "            # Contagem de ocorrências de cada valor duplicado\n",
    "            valores_duplicados = df[coluna].value_counts()[df[coluna].value_counts() > 1]\n",
    "            \n",
    "            resultado[coluna] = {\n",
    "                'possui_duplicados': True,\n",
    "                'quantidade_duplicados': qtd_duplicados,\n",
    "                'valores_e_contagem': valores_duplicados.to_dict()\n",
    "            }\n",
    "        else:\n",
    "            resultado[coluna] = {\n",
    "                'possui_duplicados': False,\n",
    "                'quantidade_duplicados': 0,\n",
    "                'valores_e_contagem': {}\n",
    "            }\n",
    "    \n",
    "    # Exibir resumo\n",
    "    print(\"=== Análise de Valores Duplicados ===\\n\")\n",
    "    \n",
    "    for coluna, info in resultado.items():\n",
    "        print(f\"\\nColuna: {coluna}\")\n",
    "        if info['possui_duplicados']:\n",
    "            print(f\"Status: Possui {info['quantidade_duplicados']} valores duplicados\")\n",
    "            print(\"Valores duplicados e suas ocorrências:\")\n",
    "            for valor, contagem in info['valores_e_contagem'].items():\n",
    "                print(f\"  - Valor: {valor} | Ocorrências: {contagem}\")\n",
    "        else:\n",
    "            print(\"Status: Não possui valores duplicados\")\n",
    "    \n",
    "    return resultado\n",
    "\n",
    "# Executar verificação de valores duplicados\n",
    "resultados_duplicados = verificar_valores_duplicados(dados)"
   ]
  },
  {
   "cell_type": "markdown",
   "metadata": {},
   "source": [
    "### Verificação tipos dos dados"
   ]
  },
  {
   "cell_type": "code",
   "execution_count": 13,
   "metadata": {},
   "outputs": [
    {
     "data": {
      "text/html": [
       "<div>\n",
       "<style scoped>\n",
       "    .dataframe tbody tr th:only-of-type {\n",
       "        vertical-align: middle;\n",
       "    }\n",
       "\n",
       "    .dataframe tbody tr th {\n",
       "        vertical-align: top;\n",
       "    }\n",
       "\n",
       "    .dataframe thead th {\n",
       "        text-align: right;\n",
       "    }\n",
       "</style>\n",
       "<table border=\"1\" class=\"dataframe\">\n",
       "  <thead>\n",
       "    <tr style=\"text-align: right;\">\n",
       "      <th></th>\n",
       "      <th>Coluna</th>\n",
       "      <th>Tipo de Dado</th>\n",
       "    </tr>\n",
       "  </thead>\n",
       "  <tbody>\n",
       "    <tr>\n",
       "      <th>0</th>\n",
       "      <td>Position</td>\n",
       "      <td>object</td>\n",
       "    </tr>\n",
       "    <tr>\n",
       "      <th>1</th>\n",
       "      <td>Level</td>\n",
       "      <td>int64</td>\n",
       "    </tr>\n",
       "    <tr>\n",
       "      <th>2</th>\n",
       "      <td>Salary</td>\n",
       "      <td>int64</td>\n",
       "    </tr>\n",
       "  </tbody>\n",
       "</table>\n",
       "</div>"
      ],
      "text/plain": [
       "     Coluna Tipo de Dado\n",
       "0  Position       object\n",
       "1     Level        int64\n",
       "2    Salary        int64"
      ]
     },
     "execution_count": 13,
     "metadata": {},
     "output_type": "execute_result"
    }
   ],
   "source": [
    "# Função para verificar o tipo dos dados/colunas\n",
    "def verificar_tipo_dados(df):\n",
    "    \"\"\"\n",
    "    Verifica o tipo dos dados/colunas de um DataFrame.\n",
    "    \n",
    "    Parâmetros:\n",
    "    - df (pandas.DataFrame): DataFrame a ser verificado.\n",
    "    \n",
    "    Retorna:\n",
    "    - pandas.DataFrame: DataFrame com os nomes das colunas e seus respectivos tipos de dados.\n",
    "    \"\"\"\n",
    "    # Obter os tipos de dados das colunas\n",
    "    tipos_dados = df.dtypes\n",
    "    \n",
    "    # Criar um DataFrame com os resultados\n",
    "    tabela_tipos = pd.DataFrame({\n",
    "        'Coluna': tipos_dados.index,\n",
    "        'Tipo de Dado': tipos_dados.values\n",
    "    })\n",
    "    \n",
    "    return tabela_tipos\n",
    "\n",
    "# Verificar o tipo dos dados/colunas\n",
    "tabela_tipos = verificar_tipo_dados(dados)\n",
    "tabela_tipos"
   ]
  },
  {
   "cell_type": "markdown",
   "metadata": {},
   "source": [
    "### Eliminar possíveis espaços"
   ]
  },
  {
   "cell_type": "code",
   "execution_count": 19,
   "metadata": {},
   "outputs": [
    {
     "name": "stdout",
     "output_type": "stream",
     "text": [
      "Informações sobre a remoção de espaços em branco:\n"
     ]
    },
    {
     "data": {
      "text/html": [
       "<div>\n",
       "<style scoped>\n",
       "    .dataframe tbody tr th:only-of-type {\n",
       "        vertical-align: middle;\n",
       "    }\n",
       "\n",
       "    .dataframe tbody tr th {\n",
       "        vertical-align: top;\n",
       "    }\n",
       "\n",
       "    .dataframe thead th {\n",
       "        text-align: right;\n",
       "    }\n",
       "</style>\n",
       "<table border=\"1\" class=\"dataframe\">\n",
       "  <thead>\n",
       "    <tr style=\"text-align: right;\">\n",
       "      <th></th>\n",
       "      <th>Coluna</th>\n",
       "      <th>Espaços Antes</th>\n",
       "      <th>Espaços Depois</th>\n",
       "      <th>Remoção Bem-Sucedida</th>\n",
       "    </tr>\n",
       "  </thead>\n",
       "  <tbody>\n",
       "    <tr>\n",
       "      <th>0</th>\n",
       "      <td>NOMES DAS COLUNAS</td>\n",
       "      <td>0</td>\n",
       "      <td>0</td>\n",
       "      <td>True</td>\n",
       "    </tr>\n",
       "    <tr>\n",
       "      <th>1</th>\n",
       "      <td>Position</td>\n",
       "      <td>0</td>\n",
       "      <td>0</td>\n",
       "      <td>True</td>\n",
       "    </tr>\n",
       "  </tbody>\n",
       "</table>\n",
       "</div>"
      ],
      "text/plain": [
       "              Coluna  Espaços Antes  Espaços Depois  Remoção Bem-Sucedida\n",
       "0  NOMES DAS COLUNAS              0               0                  True\n",
       "1           Position              0               0                  True"
      ]
     },
     "metadata": {},
     "output_type": "display_data"
    }
   ],
   "source": [
    "def remover_espacos(df):\n",
    "    \"\"\"\n",
    "    Remove espaços em branco à esquerda e à direita das strings em todas as colunas e nos nomes das colunas.\n",
    "    \n",
    "    Parâmetros:\n",
    "    - df (pandas.DataFrame): DataFrame a ser processado.\n",
    "    \n",
    "    Retorna:\n",
    "    - pandas.DataFrame: DataFrame com os espaços removidos.\n",
    "    - pandas.DataFrame: DataFrame com informações sobre as remoções realizadas.\n",
    "    \"\"\"\n",
    "    # Verificar se o DataFrame é válido\n",
    "    if not isinstance(df, pd.DataFrame):\n",
    "        raise ValueError(\"O argumento fornecido não é um DataFrame.\")\n",
    "    \n",
    "    # Verificar espaços nos nomes das colunas antes\n",
    "    colunas_com_espacos = [col for col in df.columns if col != col.strip()]\n",
    "    espacos_colunas_antes = len(colunas_com_espacos)\n",
    "    \n",
    "    # Remover espaços dos nomes das colunas\n",
    "    df.columns = df.columns.str.strip()\n",
    "            \n",
    "    # Inicializar lista para armazenar informações sobre remoções\n",
    "    informacoes_remocoes = []\n",
    "\n",
    "    # Adicionar informação sobre limpeza dos nomes das colunas\n",
    "    informacoes_remocoes.append({\n",
    "        'Coluna': 'NOMES DAS COLUNAS',\n",
    "        'Espaços Antes': espacos_colunas_antes,\n",
    "        'Espaços Depois': 0,\n",
    "        'Remoção Bem-Sucedida': True\n",
    "    })\n",
    "\n",
    "    # Aplicar strip em todas as colunas de tipo object e category\n",
    "    for col in df.select_dtypes(include=['object', 'category']).columns:\n",
    "        # Contar espaços em branco antes da remoção\n",
    "        espacos_antes = df[col].apply(lambda x: x != x.strip() if isinstance(x, str) else False).sum()\n",
    "        \n",
    "        # Remover espaços em branco\n",
    "        df[col] = df[col].map(lambda x: x.strip() if isinstance(x, str) else x)\n",
    "        \n",
    "        # Contar espaços em branco após a remoção\n",
    "        espacos_depois = df[col].apply(lambda x: x != x.strip() if isinstance(x, str) else False).sum()\n",
    "        \n",
    "        # Verificar se a remoção foi bem-sucedida\n",
    "        sucesso = espacos_depois == 0\n",
    "        \n",
    "        # Adicionar informações à lista\n",
    "        informacoes_remocoes.append({\n",
    "            'Coluna': col,\n",
    "            'Espaços Antes': espacos_antes,\n",
    "            'Espaços Depois': espacos_depois,\n",
    "            'Remoção Bem-Sucedida': sucesso\n",
    "        })\n",
    "    \n",
    "    # Criar DataFrame com as informações de remoção\n",
    "    df_informacoes_remocoes = pd.DataFrame(informacoes_remocoes)\n",
    "    \n",
    "    return df, df_informacoes_remocoes\n",
    "\n",
    "# Exemplo de uso:\n",
    "dados, informacoes_remocoes = remover_espacos(dados)\n",
    "\n",
    "# Exibir as informações sobre as remoções\n",
    "print(\"Informações sobre a remoção de espaços em branco:\")\n",
    "display(informacoes_remocoes)"
   ]
  },
  {
   "cell_type": "markdown",
   "metadata": {},
   "source": [
    "### Conversão otimização"
   ]
  },
  {
   "cell_type": "code",
   "execution_count": 20,
   "metadata": {},
   "outputs": [
    {
     "name": "stdout",
     "output_type": "stream",
     "text": [
      "✅ Coluna 'Position' convertida para 'category' com sucesso.\n",
      "✅ Coluna 'Level' convertida para 'int8' com sucesso.\n",
      "✅ Coluna 'Salary' convertida para 'int32' com sucesso.\n"
     ]
    },
    {
     "data": {
      "text/plain": [
       "Position    category\n",
       "Level           int8\n",
       "Salary         int32\n",
       "dtype: object"
      ]
     },
     "execution_count": 20,
     "metadata": {},
     "output_type": "execute_result"
    }
   ],
   "source": [
    "def modificar_tipo_colunas(df, colunas_tipos):\n",
    "    \"\"\"\n",
    "    Modifica o tipo de dado de colunas específicas em um DataFrame.\n",
    "    \n",
    "    Parâmetros:\n",
    "    - df (pandas.DataFrame): DataFrame original.\n",
    "    - colunas_tipos (dict): Dicionário onde as chaves são os nomes das colunas e os valores são os tipos de dados desejados.\n",
    "    \n",
    "    Retorna:\n",
    "    - pandas.DataFrame: DataFrame com os tipos de dados modificados.\n",
    "    \"\"\"\n",
    "    # Verifica se as colunas informadas existem no DataFrame\n",
    "    colunas_invalidas = [col for col in colunas_tipos.keys() if col not in df.columns]\n",
    "    if colunas_invalidas:\n",
    "        raise ValueError(f\"Colunas inválidas: {colunas_invalidas}\")\n",
    "    \n",
    "    # Modifica o tipo de dado das colunas especificadas\n",
    "    for coluna, tipo in colunas_tipos.items():\n",
    "        try:\n",
    "            df[coluna] = df[coluna].astype(tipo)\n",
    "            print(f\"✅ Coluna '{coluna}' convertida para '{tipo}' com sucesso.\")\n",
    "        except Exception as e:\n",
    "            print(f\"⚠️ Erro ao converter a coluna '{coluna}' para '{tipo}': {e}\")\n",
    "    \n",
    "    return df\n",
    "\n",
    "# Exemplo de uso:\n",
    "colunas_tipos = {\n",
    "    'Position': 'category',\n",
    "    'Level': 'int8',\n",
    "    'Salary': 'int32'\n",
    "}\n",
    " \n",
    "dados = modificar_tipo_colunas(dados, colunas_tipos)\n",
    "dados.dtypes # Verificar os tipos de dados\n"
   ]
  },
  {
   "cell_type": "markdown",
   "metadata": {},
   "source": [
    "### Carga"
   ]
  },
  {
   "cell_type": "code",
   "execution_count": 21,
   "metadata": {},
   "outputs": [
    {
     "name": "stdout",
     "output_type": "stream",
     "text": [
      "✅ Dados salvos com sucesso em '../data/processed/salary_atualizado.csv'\n"
     ]
    }
   ],
   "source": [
    "def salvar_dados(df, caminho_arquivo_saida):\n",
    "    \"\"\"\n",
    "    Salva o DataFrame em um arquivo CSV.\n",
    "    \n",
    "    Parâmetros:\n",
    "    - df (pandas.DataFrame): DataFrame a ser salvo.\n",
    "    - caminho_arquivo_saida (str): Caminho do arquivo CSV de saída.\n",
    "    \"\"\"\n",
    "    df.to_csv(caminho_arquivo_saida, index=False)\n",
    "    print(f\"✅ Dados salvos com sucesso em '{caminho_arquivo_saida}'\")\n",
    "\n",
    "# Exemplo de uso:\n",
    "caminho_arquivo_saida = '../data/processed/salary_atualizado.csv'\n",
    "salvar_dados(dados, caminho_arquivo_saida)"
   ]
  }
 ],
 "metadata": {
  "kernelspec": {
   "display_name": "Python 3",
   "language": "python",
   "name": "python3"
  },
  "language_info": {
   "codemirror_mode": {
    "name": "ipython",
    "version": 3
   },
   "file_extension": ".py",
   "mimetype": "text/x-python",
   "name": "python",
   "nbconvert_exporter": "python",
   "pygments_lexer": "ipython3",
   "version": "3.12.7"
  }
 },
 "nbformat": 4,
 "nbformat_minor": 2
}
